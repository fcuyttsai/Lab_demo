{
 "cells": [
  {
   "cell_type": "code",
   "execution_count": 1,
   "id": "6872bfd0-ce81-47cb-ba8d-0c6a46a78a2a",
   "metadata": {},
   "outputs": [],
   "source": [
    "import os,sys, time\n",
    "os.environ['TF_CPP_MIN_LOG_LEVEL'] = '2'  \n",
    "import tensorflow as tf\n",
    "from tensorflow import keras\n",
    "from tensorflow.keras import layers,callbacks, models\n",
    "from functools import partial\n",
    "import matplotlib.pyplot as plt\n",
    "\n",
    "import numpy as np\n",
    "sys.path.append('code')\n",
    "from tfrecord import *  \n",
    "from tensorflow.keras.models import load_model\n",
    "datapath='database' #Data path\n",
    "\n",
    "os.listdir(datapath) #print out the files in the target folder\n",
    "\n",
    "model_ = load_model('CNN_model.h5')\n",
    "train_dataset = get_dataset(datapath+'/train_data.tfrecord',batchsize=1)"
   ]
  },
  {
   "cell_type": "code",
   "execution_count": 2,
   "id": "5a81bfae-2276-421f-9177-b5a0e362b682",
   "metadata": {},
   "outputs": [
    {
     "name": "stdout",
     "output_type": "stream",
     "text": [
      "1/1 [==============================] - 3s 3s/step\n",
      "time index: 0  Predicted: [3]\n",
      "1/1 [==============================] - 0s 32ms/step\n",
      "time index: 1  Predicted: [0]\n",
      "1/1 [==============================] - 0s 31ms/step\n",
      "time index: 2  Predicted: [3]\n",
      "1/1 [==============================] - 0s 32ms/step\n",
      "time index: 3  Predicted: [0]\n",
      "1/1 [==============================] - 0s 32ms/step\n",
      "time index: 4  Predicted: [0]\n",
      "1/1 [==============================] - 0s 31ms/step\n",
      "time index: 5  Predicted: [0]\n",
      "1/1 [==============================] - 0s 30ms/step\n",
      "time index: 6  Predicted: [1]\n"
     ]
    },
    {
     "ename": "KeyboardInterrupt",
     "evalue": "",
     "output_type": "error",
     "traceback": [
      "\u001b[0;31m---------------------------------------------------------------------------\u001b[0m",
      "\u001b[0;31mKeyboardInterrupt\u001b[0m                         Traceback (most recent call last)",
      "Cell \u001b[0;32mIn[2], line 10\u001b[0m\n\u001b[1;32m      8\u001b[0m \u001b[38;5;28mprint\u001b[39m(\u001b[38;5;124m'\u001b[39m\u001b[38;5;124mtime index:\u001b[39m\u001b[38;5;124m'\u001b[39m, count,\u001b[38;5;124m'\u001b[39m\u001b[38;5;124m Predicted:\u001b[39m\u001b[38;5;124m'\u001b[39m,predicted_labels)\n\u001b[1;32m      9\u001b[0m count\u001b[38;5;241m=\u001b[39mcount\u001b[38;5;241m+\u001b[39m\u001b[38;5;241m1\u001b[39m\n\u001b[0;32m---> 10\u001b[0m \u001b[43mtime\u001b[49m\u001b[38;5;241;43m.\u001b[39;49m\u001b[43msleep\u001b[49m\u001b[43m(\u001b[49m\u001b[38;5;241;43m2\u001b[39;49m\u001b[43m)\u001b[49m\n",
      "\u001b[0;31mKeyboardInterrupt\u001b[0m: "
     ]
    }
   ],
   "source": [
    "train_iterator= iter(train_dataset)\n",
    "count =0\n",
    "for sample in train_iterator:\n",
    "    test_inputs=sample[0]\n",
    "    test_outputs=sample[1]\n",
    "    predictions = model_.predict(test_inputs)\n",
    "    predicted_labels = np.argmax(predictions, axis=1)\n",
    "    print('time index:', count,' Predicted:',predicted_labels)\n",
    "    count=count+1\n",
    "    time.sleep(2)"
   ]
  },
  {
   "cell_type": "code",
   "execution_count": null,
   "id": "a6fccd77-17d6-480c-9a18-2db2f7b23ff5",
   "metadata": {},
   "outputs": [],
   "source": []
  }
 ],
 "metadata": {
  "kernelspec": {
   "display_name": "Python 3 (ipykernel)",
   "language": "python",
   "name": "python3"
  },
  "language_info": {
   "codemirror_mode": {
    "name": "ipython",
    "version": 3
   },
   "file_extension": ".py",
   "mimetype": "text/x-python",
   "name": "python",
   "nbconvert_exporter": "python",
   "pygments_lexer": "ipython3",
   "version": "3.8.10"
  }
 },
 "nbformat": 4,
 "nbformat_minor": 5
}
